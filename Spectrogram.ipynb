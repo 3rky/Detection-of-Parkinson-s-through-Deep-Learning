{
 "cells": [
  {
   "cell_type": "code",
   "execution_count": 1,
   "id": "06528154",
   "metadata": {},
   "outputs": [],
   "source": [
    "import os\n",
    "import librosa\n",
    "import librosa.display\n",
    "import numpy as np\n",
    "import matplotlib\n",
    "import matplotlib.pyplot as plt\n",
    "\n",
    "\n",
    "# In[2]:\n",
    "\n",
    "\n",
    "# Set paths for input and output folders\n",
    "input_folder_path = 'C:/Users/rohan/OneDrive/Desktop/Internship work AI ML/SEntences_Spanish/rosita/sin normalizar/PD'\n",
    "output_folder_path = 'C:/Users/rohan/OneDrive/Desktop/Internship work AI ML/Output of sentences/spectrogram/rosita/sin normalizer/PD'\n",
    "\n",
    "# Set hyperparameters for spectrogram generation\n",
    "#window_length = 0.025 # seconds\n",
    "#overlap_length = 0.015 # seconds\n",
    "#hop_length = int(overlap_length * 44100) # samples\n",
    "#n_fft = 2048 # default value for most audio signals\n",
    "#n_mels = 128\n",
    "\n",
    "\n",
    "# In[3]:\n",
    "\n",
    "\n",
    "# Loop through all audio files in input folder\n",
    "for filename in os.listdir(input_folder_path):\n",
    "    if filename.endswith('.wav'):\n",
    "        file_path = os.path.join(input_folder_path, filename)\n",
    "        \n",
    "        # Load audio file and generate Mel spectrogram\n",
    "        y, sr = librosa.load(file_path, sr=None)\n",
    "        #S = librosa.feature.spectrogram(y=y, sr=sr, n_fft=n_fft, hop_length=hop_length) #n_mels=n_mels)\n",
    "        D = librosa.stft(y)\n",
    "        S_db = librosa.amplitude_to_db(np.abs(D),ref=np.max)\n",
    "        \n",
    "        #S_dB = librosa.power_to_db(S, ref=np.max)\n",
    "        \n",
    "        # Create output filename and path\n",
    "        output_filename = os.path.splitext(filename)[0] + '.png'\n",
    "        output_path = os.path.join(output_folder_path, output_filename)\n",
    "        \n",
    "        # Save Mel spectrogram as image file\n",
    "        plt.figure(figsize=(10, 4))\n",
    "        librosa.display.specshow(S_db)\n",
    "#         plt.colorbar(format='%+2.0f dB')\n",
    "#         plt.title('Spectrogram')\n",
    "        plt.tight_layout()\n",
    "        plt.savefig(output_path)\n",
    "        plt.close()\n"
   ]
  },
  {
   "cell_type": "code",
   "execution_count": null,
   "id": "f13d23ce",
   "metadata": {},
   "outputs": [],
   "source": []
  }
 ],
 "metadata": {
  "kernelspec": {
   "display_name": "Python 3 (ipykernel)",
   "language": "python",
   "name": "python3"
  },
  "language_info": {
   "codemirror_mode": {
    "name": "ipython",
    "version": 3
   },
   "file_extension": ".py",
   "mimetype": "text/x-python",
   "name": "python",
   "nbconvert_exporter": "python",
   "pygments_lexer": "ipython3",
   "version": "3.12.4"
  }
 },
 "nbformat": 4,
 "nbformat_minor": 5
}
